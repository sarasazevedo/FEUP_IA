{
 "cells": [
  {
   "cell_type": "markdown",
   "metadata": {},
   "source": [
    "# Artificial Intelligence\n",
    "## L.EIC – 3rd Year/2nd Semester\n",
    "### Exercise Sheet 1\n",
    "# Solving Problems by Searching"
   ]
  },
  {
   "cell_type": "markdown",
   "metadata": {},
   "source": [
    "## The Two Buckets Problem\n",
    "\n",
    "<img src=\"https://qph.cf2.quoracdn.net/main-qimg-45726b16b460cae0147ae8ca245a8fb0-pjlq\" width=\"250px\" height=\"250px\" align=\"right\">\n",
    "\n",
    "Two buckets of capacities **c1** (e.g. 4 liters) and **c2** (e.g. 3 liters), respectively, are initially empty. The buckets do not have any intermediate markings. The only operations you can perform are:\n",
    "\n",
    "- Fill (completely) a bucket \n",
    "- Empty a bucket.\n",
    "- Pour one bucket into the other (until the target one is full or the source one is empty).\n",
    "\n",
    "The aim is to determine which operations to carry out so that the first bucket contains exactly **n** liters (e.g. 2 litres)."
   ]
  },
  {
   "cell_type": "markdown",
   "metadata": {},
   "source": [
    "Formulate this problem as a search problem by defining the state representation, initial state, operators (their name, preconditions, effects, and cost), and objective test."
   ]
  },
  {
   "cell_type": "raw",
   "metadata": {
    "vscode": {
     "languageId": "raw"
    }
   },
   "source": [
    "State: [C1, C2], C1: 0..4 and C2: 0..3\n",
    "InitState: [0,0]\n",
    "ObjectiveState: [2,0] or [N,0]\n",
    "Operators: fill1, fill2, empty1, empty2, pour1to2, pour2to1\n",
    "Cost: 1 for all operators"
   ]
  },
  {
   "cell_type": "markdown",
   "metadata": {},
   "source": [
    "What is the size of the state space for this problem? Represent the state space by drawing the possible objective states and displaying some of the possible transitions from the initial state."
   ]
  },
  {
   "cell_type": "raw",
   "metadata": {
    "vscode": {
     "languageId": "raw"
    }
   },
   "source": [
    "fill1: [C1, C2] -> [4, C2]\n",
    "fill2: [C1, C2] -> [C1, 3]\n",
    "empty1: [C1, C2] -> [0, C2]\n",
    "empty2: [C1, C2] -> [C1, 0]\n",
    "pour1to2: [C1, C2] -> [C1-(3-C2), 3] if C1 > 3-C2 else [0, C1+C2]\n",
    "pour2to1: [C1, C2] -> [4, C2-(4-C1)] if C2 > 4-C1 else [C1+C2, 0]"
   ]
  },
  {
   "cell_type": "markdown",
   "metadata": {},
   "source": [
    "Solve the problem by hand, using tree search. What solutions have you found?"
   ]
  },
  {
   "cell_type": "raw",
   "metadata": {
    "vscode": {
     "languageId": "raw"
    }
   },
   "source": [
    "State: [0,0]\n",
    "fill1: [0,0] -> [4,0]\n",
    "fill2: [0,0] -> [0,3]\n",
    "empty1: [0,0] -> [0,0]\n",
    "empty2: [0,0] -> [0,0]\n",
    "pour1to2: [0,0] -> [0,0]\n",
    "pour2to1: [0,0] -> [0,0]"
   ]
  },
  {
   "cell_type": "markdown",
   "metadata": {},
   "source": [
    "### Buildind a computational approach to handle the problem\n",
    "\n",
    "To build a program to solve the buckets problem, we will implement a solution that separates the problem definition from the algorithms used to traverse the state space. This way, we can reuse our implementations of the search strategies in other problems."
   ]
  },
  {
   "cell_type": "markdown",
   "metadata": {},
   "source": [
    "#### Representing the two buckets problem as a search problem\n",
    "\n",
    "Let's start by defining a state for the buckets problem. For that, it'll suffice to aggregate two quantities, each representing the amount of water in one of the buckets. We also define a way of printing the state."
   ]
  },
  {
   "cell_type": "code",
   "execution_count": 1,
   "metadata": {},
   "outputs": [],
   "source": [
    "class BucketState:\n",
    "    c1 = 4   # capacity for bucket 1\n",
    "    c2 = 3   # capacity for bucket 2\n",
    "    \n",
    "    def __init__(self, b1, b2):\n",
    "        self.b1 = b1\n",
    "        self.b2 = b2\n",
    "\n",
    "    '''needed for the visited list'''\n",
    "    def __eq__(self, other):\n",
    "        if isinstance(other, self.__class__):\n",
    "            return self.__dict__ == other.__dict__\n",
    "        else:\n",
    "            return False\n",
    "\n",
    "    def __ne__(self, other):\n",
    "        \"\"\"Overrides the default implementation (unnecessary in Python 3)\"\"\"\n",
    "        return not self.__eq__(other)\n",
    "    \n",
    "    def __hash__(self):\n",
    "        return hash((self.b1, self.b2)) \n",
    "    ''' - '''\n",
    "\n",
    "    def __str__(self):\n",
    "        return \"(\" + str(self.b1) + \", \" + str(self.b2) + \")\""
   ]
  },
  {
   "cell_type": "markdown",
   "metadata": {},
   "source": [
    "Now we define each of the operators on states:"
   ]
  },
  {
   "cell_type": "code",
   "execution_count": 2,
   "metadata": {},
   "outputs": [],
   "source": [
    "# emptying the first bucket\n",
    "def empty1(state):\n",
    "    if state.b1 > 0:\n",
    "        return BucketState(0, state.b2)\n",
    "    return None\n",
    "\n",
    "# emptying the second bucket\n",
    "def empty2(state):\n",
    "    # your code here\n",
    "    if state.b2 > 0:\n",
    "        return BucketState(state.b1, 0)\n",
    "    return None\n",
    "\n",
    "# fill first bucket\n",
    "def fill1(state):\n",
    "    if state.b1 < 4:\n",
    "        return BucketState(4, state.b2)\n",
    "    return None\n",
    "\n",
    "# fill second bucket\n",
    "def fill2(state):\n",
    "    if state.b2 < 3:\n",
    "        return BucketState(state.b1, 3)\n",
    "\n",
    "# pour bucket 1 to bucket 2 and fill bucket 2\n",
    "def pour12_fill2(state):\n",
    "    if state.b2 < 3 and state.b1 > 0 and state.b1 + state.b2 >= 3:\n",
    "        return BucketState(state.b1 - (3 - state.b2), 3)\n",
    "    return None\n",
    "\n",
    "# pour bucket 1 to bucket 2 and empty bucket 1\n",
    "def pour12_empty1(state):\n",
    "    if state.b1 > 0 and state.b2 < 3 and state.b1 + state.b2 < 3:\n",
    "        return BucketState(0, state.b1 + state.b2)\n",
    "    return None\n",
    "\n",
    "# pour bucket 2 to bucket 1 and fill bucket 1\n",
    "def pour21_fill1(state):\n",
    "    if state.b1 < 4 and state.b2 > 0 and state.b1 + state.b2 >= 4:\n",
    "        return BucketState(4, state.b2 - (4 - state.b2))\n",
    "    return None\n",
    "\n",
    "# pour bucket 2 to bucket 1 and empty bucket 2\n",
    "def pour21_empty2(state):\n",
    "    if state.b2 > 0 and state.b1 < 4 and state.b1 + state.b2 < 4:\n",
    "        return BucketState(state.b1 + state.b2, 0)\n",
    "    return None"
   ]
  },
  {
   "cell_type": "markdown",
   "metadata": {},
   "source": [
    "The following function will aggregate all states that can be generated from a given one:"
   ]
  },
  {
   "cell_type": "code",
   "execution_count": 3,
   "metadata": {},
   "outputs": [],
   "source": [
    "def child_bucket_states(state):\n",
    "    new_states = []\n",
    "    if(empty1(state)):\n",
    "        new_states.append(empty1(state))\n",
    "    if(empty2(state)):\n",
    "        new_states.append(empty2(state))\n",
    "    if(fill1(state)):\n",
    "        new_states.append(fill1(state))\n",
    "    if(fill2(state)):\n",
    "        new_states.append(fill2(state))\n",
    "    if(pour12_fill2(state)):\n",
    "        new_states.append(pour12_fill2(state))\n",
    "    if(pour12_empty1(state)):\n",
    "        new_states.append(pour12_empty1(state))\n",
    "    if(pour21_fill1(state)):\n",
    "        new_states.append(pour21_fill1(state))\n",
    "    if(pour21_empty2(state)):\n",
    "        new_states.append(pour21_empty2(state))\n",
    "    return new_states"
   ]
  },
  {
   "cell_type": "markdown",
   "metadata": {},
   "source": [
    "Play around with the state transition operators and check if they are working properly:"
   ]
  },
  {
   "cell_type": "code",
   "execution_count": 4,
   "metadata": {},
   "outputs": [
    {
     "name": "stdout",
     "output_type": "stream",
     "text": [
      "(4, 0)\n"
     ]
    },
    {
     "data": {
      "text/plain": [
       "[<__main__.BucketState at 0x110d0b710>, <__main__.BucketState at 0x110d0b810>]"
      ]
     },
     "execution_count": 4,
     "metadata": {},
     "output_type": "execute_result"
    }
   ],
   "source": [
    "s = BucketState(0, 0)\n",
    "s = fill1(s)\n",
    "print(s)\n",
    "\n",
    "child_bucket_states(BucketState(0, 0))\n",
    "\n"
   ]
  },
  {
   "cell_type": "markdown",
   "metadata": {},
   "source": [
    "Finally, we need to define the goal condition:"
   ]
  },
  {
   "cell_type": "code",
   "execution_count": 5,
   "metadata": {},
   "outputs": [],
   "source": [
    "def goal_bucket_state(state):\n",
    "    if(state.b1 == 2):\n",
    "        return True\n",
    "    return False\n"
   ]
  },
  {
   "cell_type": "markdown",
   "metadata": {},
   "source": [
    "Test your goal condition:"
   ]
  },
  {
   "cell_type": "code",
   "execution_count": 8,
   "metadata": {},
   "outputs": [
    {
     "name": "stdout",
     "output_type": "stream",
     "text": [
      "True\n",
      "False\n",
      "True\n",
      "True\n",
      "False\n",
      "False\n",
      "False\n"
     ]
    }
   ],
   "source": [
    "print(goal_bucket_state(BucketState(2, 0)))\n",
    "print(goal_bucket_state(BucketState(0, 2)))\n",
    "print(goal_bucket_state(BucketState(2, 2)))\n",
    "print(goal_bucket_state(BucketState(2, 1)))\n",
    "print(goal_bucket_state(BucketState(1, 2)))\n",
    "print(goal_bucket_state(BucketState(1, 1)))\n",
    "print(goal_bucket_state(BucketState(0, 0)))"
   ]
  },
  {
   "cell_type": "markdown",
   "metadata": {},
   "source": [
    "#### Implementing search algorithms\n",
    "\n",
    "Let us start by defining an appropriate structure to represent a node in a search tree. Each tree node will include:\n",
    "- a state of the problem\n",
    "- a link to its parent (to allow traveling from a leaf node towards the root of the tree)\n",
    "- a list of child nodes"
   ]
  },
  {
   "cell_type": "code",
   "execution_count": 9,
   "metadata": {},
   "outputs": [],
   "source": [
    "# A generic definition of a tree node holding a state of the problem\n",
    "class TreeNode:\n",
    "    def __init__(self, state, parent=None):\n",
    "        self.state = state\n",
    "        self.parent = parent\n",
    "        self.children = []\n",
    "        if self.parent is None:\n",
    "            self.depth = 0\n",
    "        else:\n",
    "            self.depth = parent.depth + 1\n",
    "\n",
    "    def add_child(self, child_node):\n",
    "        self.children.append(child_node)\n",
    "        child_node.parent = self"
   ]
  },
  {
   "cell_type": "markdown",
   "metadata": {},
   "source": [
    "##### Breadth-first search\n",
    "\n",
    "Based on this structure, we can now implement breadth-first search. Note that we want the implementation to be independent of the problem at hand (in this case, the two buckets problem)."
   ]
  },
  {
   "cell_type": "code",
   "execution_count": 10,
   "metadata": {},
   "outputs": [],
   "source": [
    "from collections import deque\n",
    "\n",
    "def breadth_first_search(initial_state, goal_state_func, operators_func):\n",
    "    root = TreeNode(initial_state)   # create the root node in the search tree\n",
    "    queue = deque([root])   # initialize the queue to store the nodes\n",
    "    \n",
    "    while queue:\n",
    "        node = queue.popleft()   # get first element in the queue\n",
    "        if goal_state_func(node.state):   # check goal state\n",
    "            return node\n",
    "        \n",
    "        for state in operators_func(node.state):   # go through next states\n",
    "            # create tree node with the new state\n",
    "            new_node = TreeNode(state=state, parent=node)\n",
    "            \n",
    "            # link child node to its parent in the tree\n",
    "            node.add_child(new_node)\n",
    "            \n",
    "            # enqueue the child node\n",
    "            queue.append(new_node)\n",
    "            \n",
    "\n",
    "    return None\n"
   ]
  },
  {
   "cell_type": "markdown",
   "metadata": {},
   "source": [
    "We can now use this function to actually perform a breadth-first search on the buckets problem: we pass it the initial state, our goal condition function, and the function for obtaining child states."
   ]
  },
  {
   "cell_type": "code",
   "execution_count": 11,
   "metadata": {},
   "outputs": [
    {
     "name": "stdout",
     "output_type": "stream",
     "text": [
      "(2, 0)\n"
     ]
    }
   ],
   "source": [
    "goal = breadth_first_search(BucketState(0,0), \n",
    "                            goal_bucket_state, \n",
    "                            child_bucket_states)\n",
    "print(goal.state)"
   ]
  },
  {
   "cell_type": "markdown",
   "metadata": {},
   "source": [
    "In order to print the actual steps from the initial state to the last, we can take advantage of each node's link to its parent."
   ]
  },
  {
   "cell_type": "code",
   "execution_count": 12,
   "metadata": {},
   "outputs": [],
   "source": [
    "def print_solution(node):\n",
    "    if node:\n",
    "        path = []\n",
    "        while node:\n",
    "            path.append(node.state)\n",
    "            node = node.parent\n",
    "    else:\n",
    "        print(\"Solution not found.\")\n",
    "        \n",
    "    for state in reversed(path):\n",
    "        print(state)\n",
    "        \n",
    "    return"
   ]
  },
  {
   "cell_type": "markdown",
   "metadata": {},
   "source": [
    "Now we can print the solution:"
   ]
  },
  {
   "cell_type": "code",
   "execution_count": 13,
   "metadata": {},
   "outputs": [
    {
     "name": "stdout",
     "output_type": "stream",
     "text": [
      "(0, 0)\n",
      "(4, 0)\n",
      "(1, 3)\n",
      "(4, 2)\n",
      "(0, 2)\n",
      "(2, 0)\n"
     ]
    }
   ],
   "source": [
    "print_solution(goal)"
   ]
  },
  {
   "cell_type": "markdown",
   "metadata": {},
   "source": [
    "If we need a description for each of the employed operators, we could have each operation function return also such a description, and modify the TreeNode class so that each node also includes a description of the edge to get there. We leave that as an exercise after class."
   ]
  },
  {
   "cell_type": "markdown",
   "metadata": {},
   "source": [
    "##### Depth-first search\n",
    "\n",
    "Implement depth-first search (again, in a manner that is independent of the problem at hand). You can start from your breadth-first search implementation and with minor changes get an implementation for depth-first search."
   ]
  },
  {
   "cell_type": "code",
   "execution_count": 16,
   "metadata": {},
   "outputs": [],
   "source": [
    "from collections import deque\n",
    "\n",
    "def depth_first_search(initial_state, goal_state_func, operators_func):\n",
    "    root = TreeNode(initial_state) #create the root in the node in the search tree\n",
    "    queue = deque([root]) # initialize the queue to store the nodes \n",
    "    visited = set([initial_state])\n",
    "\n",
    "    while queue:\n",
    "        node = queue.pop() # get last element in the queue\n",
    "        if goal_state_func(node.state):   # check goal state\n",
    "            return node\n",
    "        \n",
    "        for state in operators_func(node.state):\n",
    "            if state not in visited:\n",
    "                new_node = TreeNode(state=state, parent=node)\n",
    "                node.add_child(new_node)\n",
    "                queue.append(new_node)\n",
    "                visited.add(state)\n",
    "    return None"
   ]
  },
  {
   "cell_type": "markdown",
   "metadata": {},
   "source": [
    "Test it on the two buckets problem."
   ]
  },
  {
   "cell_type": "code",
   "execution_count": 17,
   "metadata": {},
   "outputs": [
    {
     "name": "stdout",
     "output_type": "stream",
     "text": [
      "(2, 0)\n",
      "-------------------------\n",
      "(0, 0)\n",
      "(0, 3)\n",
      "(3, 0)\n",
      "(3, 3)\n",
      "(4, 2)\n",
      "(0, 2)\n",
      "(2, 0)\n"
     ]
    }
   ],
   "source": [
    "goal2 = depth_first_search(BucketState(0,0), \n",
    "                            goal_bucket_state, \n",
    "                            child_bucket_states)\n",
    "print(goal2.state)\n",
    "print(\"-------------------------\")\n",
    "print_solution(goal2)"
   ]
  },
  {
   "cell_type": "markdown",
   "metadata": {},
   "source": [
    "If you are unable to get a solution, think about it: depth-first search is not a complete search method, and one of the reasons for that is if the state space contains cycles. As such, you need to make sure you avoid entering into a cycle by keeping a visited nodes list or set and checking that list whenever you generate a new state."
   ]
  },
  {
   "cell_type": "markdown",
   "metadata": {},
   "source": [
    "##### Depth-limited search\n",
    "\n",
    "Another way to make it work is to impose a depth limit to the problem. Implement depth-limited search."
   ]
  },
  {
   "cell_type": "code",
   "execution_count": 18,
   "metadata": {},
   "outputs": [],
   "source": [
    "def depth_limited_search(initial_state, goal_state_func, operators_func, depth_limit):\n",
    "    root = TreeNode(initial_state) \n",
    "    root.depth = 0  # create the root node in the search tree\n",
    "    queue = deque([root])    # initialize the queue to store the nodes\n",
    "    visited = set([initial_state])\n",
    "    \n",
    "    while queue:\n",
    "        node = queue.pop() # get last element in the queue\n",
    "        if goal_state_func(node.state):   # check goal state\n",
    "            return node\n",
    "        \n",
    "        if node.depth <= depth_limit:\n",
    "            for state in operators_func(node.state):\n",
    "                if state not in visited:\n",
    "                    new_node = TreeNode(state=state, parent=node)\n",
    "                    new_node.depth = node.depth + 1\n",
    "                    node.add_child(new_node)\n",
    "                    queue.append(new_node)\n",
    "                    visited.add(state)\n",
    "    return None\n",
    "    "
   ]
  },
  {
   "cell_type": "markdown",
   "metadata": {},
   "source": [
    "Test it on the two buckets problem."
   ]
  },
  {
   "cell_type": "code",
   "execution_count": 19,
   "metadata": {},
   "outputs": [
    {
     "name": "stdout",
     "output_type": "stream",
     "text": [
      "(2, 0)\n",
      "-------------------------\n",
      "(0, 0)\n",
      "(0, 3)\n",
      "(3, 0)\n",
      "(3, 3)\n",
      "(4, 2)\n",
      "(0, 2)\n",
      "(2, 0)\n"
     ]
    }
   ],
   "source": [
    "goal3 = depth_limited_search(BucketState(0,0),\n",
    "                            goal_bucket_state,\n",
    "                            child_bucket_states,\n",
    "                            10)\n",
    "if goal3:\n",
    "    print(goal3.state)\n",
    "    print(\"-------------------------\")\n",
    "    print_solution(goal3)\n",
    "else:\n",
    "    print(\"Solution not found.\")\n",
    "\n"
   ]
  },
  {
   "cell_type": "markdown",
   "metadata": {},
   "source": [
    "##### Iterative deepening search\n",
    "\n",
    "Based on depth-limited, you can easily implement iterative-deepening search."
   ]
  },
  {
   "cell_type": "code",
   "execution_count": 20,
   "metadata": {},
   "outputs": [],
   "source": [
    "def iterative_deepening_search(initial_state, goal_state_func, operators_func, depth_limit):\n",
    "   for depth in range(depth_limit):\n",
    "        result = depth_limited_search(initial_state, goal_state_func, operators_func, depth)\n",
    "        if result:\n",
    "            return result\n",
    "        return None\n",
    "    "
   ]
  },
  {
   "cell_type": "markdown",
   "metadata": {},
   "source": [
    "Again, test it on the two buckets problem."
   ]
  },
  {
   "cell_type": "code",
   "execution_count": 25,
   "metadata": {},
   "outputs": [],
   "source": [
    "goal4 = iterative_deepening_search(BucketState(0,0),\n",
    "                                   goal_bucket_state,\n",
    "                                   child_bucket_states,\n",
    "                                   10) \n",
    "if goal4 is not None:\n",
    "    print(goal4.state)\n",
    "    print(\"-------------------------\")\n",
    "    print_solution(goal4)"
   ]
  },
  {
   "cell_type": "markdown",
   "metadata": {},
   "source": [
    "## The Missionaries and Cannibals Problem \n",
    "\n",
    "<img src=\"https://allfish24.files.wordpress.com/2016/09/gambar-1.jpg\">\n",
    "\n",
    "Three missionaries and three cannibals are on one of the banks of the river with a boat that only takes one or two people. The boat cannot travel the river alone.\n",
    "\n",
    "The goal is to find a way to get the six to the other bank of the river without ever leaving more cannibals than missionaries on one of the banks (even at the instant they leave/join the boat) during the process."
   ]
  },
  {
   "cell_type": "markdown",
   "metadata": {},
   "source": [
    "Formulate this problem as a search problem by defining the state representation, initial state, operators (their name, preconditions, effects, and cost), and objective test."
   ]
  },
  {
   "cell_type": "raw",
   "metadata": {},
   "source": [
    "State Representation:\n",
    "[NM/NC/NB] NM:0..3; NC:0..3; NB:0..1 #Numbers of missionaries, cannibals and boats on the initial margin. On the other margin: 3-X\n",
    "\n",
    "Inital State:\n",
    "[3/3/1] (all missionaries, cannibals and boats at first margin)\n",
    "\n",
    "Operators (3 possibilities):\n",
    "MM1, CC1, MC1, M1, C1, MM2, CC2, MC2, M2, C2\n",
    "MM(Dir), CC(Dir), MC(Dir), M(Dir), C(Dir)\n",
    "Trip(NM, NC, Dir)\n",
    "\n",
    "Objetive State:\n",
    "[0/0/_] or obviously [0/0/0] (all on the second margin)"
   ]
  },
  {
   "cell_type": "markdown",
   "metadata": {},
   "source": [
    "Solve the problem by hand, using tree search. What solutions have you found?"
   ]
  },
  {
   "cell_type": "raw",
   "metadata": {
    "vscode": {
     "languageId": "raw"
    }
   },
   "source": [
    "\n"
   ]
  },
  {
   "cell_type": "markdown",
   "metadata": {},
   "source": [
    "Represent the problem as a search problem and take advantage of the implemented search algorithms to find solutions!"
   ]
  },
  {
   "cell_type": "code",
   "execution_count": 27,
   "metadata": {},
   "outputs": [
    {
     "ename": "NameError",
     "evalue": "name 'start' is not defined",
     "output_type": "error",
     "traceback": [
      "\u001b[0;31m---------------------------------------------------------------------------\u001b[0m",
      "\u001b[0;31mNameError\u001b[0m                                 Traceback (most recent call last)",
      "Cell \u001b[0;32mIn[27], line 7\u001b[0m\n\u001b[1;32m      4\u001b[0m         \u001b[38;5;28mself\u001b[39m\u001b[38;5;241m.\u001b[39mcan \u001b[38;5;241m=\u001b[39m can\n\u001b[1;32m      5\u001b[0m         \u001b[38;5;28mself\u001b[39m\u001b[38;5;241m.\u001b[39mboat \u001b[38;5;241m=\u001b[39m boat\n\u001b[0;32m----> 7\u001b[0m st \u001b[38;5;241m=\u001b[39m MisCanState(start\u001b[38;5;241m.\u001b[39mmis\u001b[38;5;241m-\u001b[39m\u001b[38;5;241m2\u001b[39m, state\u001b[38;5;241m.\u001b[39mcan, \u001b[38;5;241m0\u001b[39m)\n\u001b[1;32m      8\u001b[0m \u001b[38;5;28;01mif\u001b[39;00m legal_miscan_state(st):\n\u001b[1;32m      9\u001b[0m     new_states\u001b[38;5;241m.\u001b[39mappend(st)\n",
      "\u001b[0;31mNameError\u001b[0m: name 'start' is not defined"
     ]
    }
   ],
   "source": [
    "st = MisCanState(start.mis-2, state.can, 0)\n",
    "if legal_miscan_state(st):\n",
    "    new_states.append(st)\n",
    "\n",
    "#CC1\n",
    "st = MisCanState(start.mis, state.can-2, 0)\n",
    "if legal_miscan_state(st):\n",
    "    new_states.append(st)\n",
    "\n",
    "#NC1\n",
    "st = MisCanState(start.mis-1, state.can-1, 0)\n",
    "if legal_miscan_state(st):\n",
    "    new_states.append(st)\n",
    "\n",
    "#M1\n",
    "st = MisCanState(start.mis-1, state.can, 0)\n",
    "if legal_miscan_state(st):\n",
    "    new_states.append(st)\n",
    "\n",
    "#C1\n",
    "st = MisCanState(start.mis, state.can-1, 0)\n",
    "if legal_miscan_state(st):\n",
    "    new_states.append(st)\n",
    "\n",
    "#Second margin of the river\n",
    "if state.boat == 0:\n",
    "    #NM2\n",
    "    st = MisCanState(start.mis+2, state.can, 1)\n",
    "    if legal_miscan_state(st):\n",
    "        new_states.append(st)\n",
    "\n",
    "    #CC2 \n",
    "    st = MisCanState(start.mis, state.can+2, 1)\n",
    "    if legal_miscan_state(st):\n",
    "        new_states.append(st)\n",
    "\n",
    "    st = MisCanState(start.mis+1, state.can, 1)\n",
    "    if legal_miscan_state(st):\n",
    "        new_states.append(st)\n",
    "\n",
    "    #C2\n",
    "    st = MisCanState(start.mis, state.can+1, 1)\n",
    "    if legal_miscan_state(st):\n",
    "        new_states.append(st)\n",
    "    \n",
    "    return new_states"
   ]
  }
 ],
 "metadata": {
  "kernelspec": {
   "display_name": "Python 3",
   "language": "python",
   "name": "python3"
  },
  "language_info": {
   "codemirror_mode": {
    "name": "ipython",
    "version": 3
   },
   "file_extension": ".py",
   "mimetype": "text/x-python",
   "name": "python",
   "nbconvert_exporter": "python",
   "pygments_lexer": "ipython3",
   "version": "3.11.7"
  },
  "vscode": {
   "interpreter": {
    "hash": "b0fa6594d8f4cbf19f97940f81e996739fb7646882a419484c72d19e05852a7e"
   }
  }
 },
 "nbformat": 4,
 "nbformat_minor": 4
}
